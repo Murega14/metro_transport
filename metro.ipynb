{
 "cells": [
  {
   "cell_type": "code",
   "execution_count": 2,
   "metadata": {},
   "outputs": [],
   "source": [
    "#importing libraries\n",
    "import pandas as pd\n",
    "import numpy as np\n",
    "import pandasai as pdai\n"
   ]
  },
  {
   "cell_type": "code",
   "execution_count": 3,
   "metadata": {},
   "outputs": [
    {
     "name": "stdout",
     "output_type": "stream",
     "text": [
      "             City Country\\r\\nregion                      Name  \\\n",
      "0         Algiers           Algeria             Algiers Metro   \n",
      "1    Buenos Aires         Argentina  Buenos Aires Underground   \n",
      "2         Yerevan           Armenia             Yerevan Metro   \n",
      "3          Sydney         Australia              Sydney Metro   \n",
      "4          Vienna           Austria             Vienna U-Bahn   \n",
      "5            Baku        Azerbaijan                Baku Metro   \n",
      "6           Dhaka        Bangladesh          Dhaka Metro Rail   \n",
      "7           Minsk           Belarus               Minsk Metro   \n",
      "8        Brussels           Belgium            Brussels Metro   \n",
      "9  Belo Horizonte            Brazil      Belo Horizonte Metro   \n",
      "\n",
      "   Service\\r\\nopened Last\\r\\nexpanded  Stations      System length  \\\n",
      "0               2011             2018        19  18.5 km (11.5 mi)   \n",
      "1               1913             2019        78  56.7 km (35.2 mi)   \n",
      "2               1981             1996        10   12.1 km (7.5 mi)   \n",
      "3               2019                –        13      36 km (22 mi)   \n",
      "4               1978             2017        98  83.3 km (51.8 mi)   \n",
      "5               1967             2022        27  40.7 km (25.3 mi)   \n",
      "6               2022                –         9   11.7 km (7.3 mi)   \n",
      "7               1984             2020        33  40.8 km (25.4 mi)   \n",
      "8               1976             2009        59  39.9 km (24.8 mi)   \n",
      "9               1986             2002        19  28.1 km (17.5 mi)   \n",
      "\n",
      "  Annual ridership\\r\\n(millions)  \n",
      "0                    45.3 (2019)  \n",
      "1                    74.0 (2020)  \n",
      "2                    23.3 (2022)  \n",
      "3                    16.3 (2022)  \n",
      "4                   459.8 (2019)  \n",
      "5                   202.5 (2022)  \n",
      "6                            NaN  \n",
      "7                   225.9 (2022)  \n",
      "8                    96.3 (2021)  \n",
      "9                    54.4 (2019)  \n"
     ]
    }
   ],
   "source": [
    "#loading csv file into dataframe\n",
    "df = pd.read_csv('/home/muregz/data_analysis/metro_transport/Metro-Systems-Worldwide.csv')\n",
    "\n",
    "print(df.head(10))"
   ]
  },
  {
   "cell_type": "code",
   "execution_count": 4,
   "metadata": {},
   "outputs": [
    {
     "name": "stdout",
     "output_type": "stream",
     "text": [
      "Index(['City', 'Country', 'Name', 'Service opened', 'Last expanded',\n",
      "       'Stations', 'System length', 'Annual ridership in millions'],\n",
      "      dtype='object')\n"
     ]
    }
   ],
   "source": [
    "df = df.rename(columns={'Country\\r\\nregion': 'Country',\n",
    "                        'Service\\r\\nopened' : 'Service opened',\n",
    "                        'Last\\r\\nexpanded' : 'Last expanded',\n",
    "                        'Annual ridership\\r\\n(millions)' : 'Annual ridership in millions'})\n",
    "print(df.columns)"
   ]
  },
  {
   "cell_type": "code",
   "execution_count": 5,
   "metadata": {},
   "outputs": [
    {
     "name": "stdout",
     "output_type": "stream",
     "text": [
      "           City    Country                      Name  Service opened  \\\n",
      "0       Algiers    Algeria             Algiers Metro            2011   \n",
      "1  Buenos Aires  Argentina  Buenos Aires Underground            1913   \n",
      "2       Yerevan    Armenia             Yerevan Metro            1981   \n",
      "3        Sydney  Australia              Sydney Metro            2019   \n",
      "4        Vienna    Austria             Vienna U-Bahn            1978   \n",
      "\n",
      "  Last expanded  Stations      System length Annual ridership in millions  \\\n",
      "0          2018        19  18.5 km (11.5 mi)                  45.3 (2019)   \n",
      "1          2019        78  56.7 km (35.2 mi)                  74.0 (2020)   \n",
      "2          1996        10   12.1 km (7.5 mi)                  23.3 (2022)   \n",
      "3             –        13      36 km (22 mi)                  16.3 (2022)   \n",
      "4          2017        98  83.3 km (51.8 mi)                 459.8 (2019)   \n",
      "\n",
      "  Annual Ridership Year of Record  \n",
      "0             45.3           2019  \n",
      "1             74.0           2020  \n",
      "2             23.3           2022  \n",
      "3             16.3           2022  \n",
      "4            459.8           2019  \n"
     ]
    }
   ],
   "source": [
    "# Split the \"Ridership\" column into two separate columns\n",
    "df[['Annual Ridership', 'Year of Record']] = df['Annual ridership in millions'].str.split(' ', n=1, expand=True)\n",
    "\n",
    "# Remove the parentheses from the \"Year of Record\" column\n",
    "df['Year of Record'] = df['Year of Record'].str.strip('()')\n",
    "\n",
    "# Print the resulting DataFrame\n",
    "print(df.head(5))"
   ]
  },
  {
   "cell_type": "code",
   "execution_count": 6,
   "metadata": {},
   "outputs": [
    {
     "name": "stdout",
     "output_type": "stream",
     "text": [
      "0       45.3\n",
      "1       74.0\n",
      "2       23.3\n",
      "3       16.3\n",
      "4      459.8\n",
      "       ...  \n",
      "200      2.5\n",
      "201     93.0\n",
      "202    136.7\n",
      "203      358\n",
      "204      7.5\n",
      "Name: Annual Ridership, Length: 205, dtype: object\n"
     ]
    }
   ],
   "source": [
    "df['Annual Ridership'] = df['Annual Ridership'].str.replace(',', '')\n",
    "\n",
    "\n",
    "print(df['Annual Ridership'])"
   ]
  },
  {
   "cell_type": "code",
   "execution_count": 7,
   "metadata": {},
   "outputs": [],
   "source": [
    "df = df.reset_index()\n",
    "df.to_csv('output.csv', index=False)"
   ]
  },
  {
   "cell_type": "code",
   "execution_count": 8,
   "metadata": {},
   "outputs": [
    {
     "name": "stdout",
     "output_type": "stream",
     "text": [
      "                       Name          City    Country  Service opened  \\\n",
      "0             Algiers Metro       Algiers    Algeria            2011   \n",
      "1  Buenos Aires Underground  Buenos Aires  Argentina            1913   \n",
      "2             Yerevan Metro       Yerevan    Armenia            1981   \n",
      "3              Sydney Metro        Sydney  Australia            2019   \n",
      "4             Vienna U-Bahn        Vienna    Austria            1978   \n",
      "\n",
      "  Last expanded  Stations System length system_length(mi)  \\\n",
      "0          2018        19       18.5 km         (11.5 mi)   \n",
      "1          2019        78       56.7 km         (35.2 mi)   \n",
      "2          1996        10       12.1 km          (7.5 mi)   \n",
      "3             –        13         36 km           (22 mi)   \n",
      "4          2017        98       83.3 km         (51.8 mi)   \n",
      "\n",
      "  Annual ridership in millions  Annual Ridership Year of Record  \n",
      "0                  45.3 (2019)              45.3           2019  \n",
      "1                  74.0 (2020)              74.0           2020  \n",
      "2                  23.3 (2022)              23.3           2022  \n",
      "3                  16.3 (2022)              16.3           2022  \n",
      "4                 459.8 (2019)             459.8           2019  \n"
     ]
    }
   ],
   "source": [
    "metro = pd.read_excel('/home/muregz/data_analysis/metro_transport/output.ods')\n",
    "print(metro.head(5))"
   ]
  },
  {
   "attachments": {},
   "cell_type": "markdown",
   "metadata": {},
   "source": [
    "# showing which countries appear in the file"
   ]
  },
  {
   "cell_type": "code",
   "execution_count": 9,
   "metadata": {},
   "outputs": [
    {
     "name": "stdout",
     "output_type": "stream",
     "text": [
      "['Algeria' 'Argentina' 'Armenia' 'Australia' 'Austria' 'Azerbaijan'\n",
      " 'Bangladesh' 'Belarus' 'Belgium' 'Brazil' 'Bulgaria' 'Canada' 'Chile'\n",
      " 'China' 'Colombia' 'Czech Republic' 'Denmark' 'Dominican Republic'\n",
      " 'Ecuador' 'Egypt' 'Finland' 'France' 'Georgia' 'Germany' 'Greece'\n",
      " 'Hungary' 'India' 'Indonesia' 'Iran' 'Italy' 'Japan' 'Kazakhstan'\n",
      " 'North Korea' 'South Korea' 'Malaysia' 'Mexico' 'Netherlands' 'Nigeria'\n",
      " 'Norway' 'Pakistan' 'Panama' 'Peru' 'Philippines' 'Poland' 'Portugal'\n",
      " 'Qatar' 'Romania' 'Russia' 'Singapore' 'Spain' 'Sweden' 'Switzerland'\n",
      " 'Taiwan' 'Thailand' 'Turkey' 'Ukraine' 'United Arab Emirates'\n",
      " 'United Kingdom' 'United States' 'Uzbekistan' 'Venezuela' 'Vietnam']\n"
     ]
    }
   ],
   "source": [
    "country = metro['Country'].unique()\n",
    "print(country)"
   ]
  },
  {
   "cell_type": "code",
   "execution_count": 10,
   "metadata": {},
   "outputs": [
    {
     "data": {
      "text/plain": [
       "Name                             object\n",
       "City                             object\n",
       "Country                          object\n",
       "Service opened                    int64\n",
       "Last expanded                    object\n",
       "Stations                          int64\n",
       "System length                    object\n",
       "system_length(mi)                object\n",
       "Annual ridership in millions     object\n",
       "Annual Ridership                float64\n",
       "Year of Record                   object\n",
       "dtype: object"
      ]
     },
     "execution_count": 10,
     "metadata": {},
     "output_type": "execute_result"
    }
   ],
   "source": [
    "#metro['Annual Ridership'] = metro['Annual Ridership'].astype(float)\n",
    "metro.dtypes"
   ]
  },
  {
   "attachments": {},
   "cell_type": "markdown",
   "metadata": {},
   "source": [
    "# showing which country has the highest annual ridership and the lowest ridership"
   ]
  },
  {
   "cell_type": "code",
   "execution_count": 11,
   "metadata": {},
   "outputs": [
    {
     "name": "stdout",
     "output_type": "stream",
     "text": [
      "Name: Shanghai Metro\n",
      "Country: China\n"
     ]
    },
    {
     "data": {
      "text/plain": [
       "<function print(*args, sep=' ', end='\\n', file=None, flush=False)>"
      ]
     },
     "execution_count": 11,
     "metadata": {},
     "output_type": "execute_result"
    }
   ],
   "source": [
    "highest = metro.groupby(['Name', 'Country'])['Annual Ridership'].max()\n",
    "highest_index = highest.idxmax()\n",
    "name, country = highest_index\n",
    "print(\"Name:\", name)\n",
    "print(\"Country:\", country)\n",
    "print\n"
   ]
  },
  {
   "cell_type": "code",
   "execution_count": 12,
   "metadata": {},
   "outputs": [
    {
     "name": "stdout",
     "output_type": "stream",
     "text": [
      "Name: Ahmedabad Metro\n",
      "Country: India\n"
     ]
    }
   ],
   "source": [
    "lowest = metro.groupby(['Name', 'Country'])['Annual Ridership'].min()\n",
    "lowest_index = lowest.idxmin()\n",
    "name, country = lowest_index\n",
    "print(\"Name:\", name)\n",
    "print(\"Country:\", country)"
   ]
  },
  {
   "attachments": {},
   "cell_type": "markdown",
   "metadata": {},
   "source": [
    "# comparing between station length and annual ridership"
   ]
  },
  {
   "cell_type": "code",
   "execution_count": 13,
   "metadata": {},
   "outputs": [
    {
     "data": {
      "image/png": "[encoded data removed]",
      "text/plain": [
       "<Figure size 640x480 with 1 Axes>"
      ]
     },
     "metadata": {},
     "output_type": "display_data"
    }
   ],
   "source": [
    "import matplotlib.pyplot as plt\n",
    "\n",
    "# Converting columns to numeric types\n",
    "metro['system_length(km)'] = pd.to_numeric(metro['System length'], errors='coerce')\n",
    "metro['annual_ridership'] = pd.to_numeric(metro['Annual Ridership'], errors='coerce')\n",
    "\n",
    "\n",
    "station_length = metro['system_length(km)']\n",
    "annual_ridership = metro['annual_ridership']\n",
    "\n",
    "# Create a scatter plot\n",
    "plt.scatter(station_length, annual_ridership)\n",
    "plt.xlabel('System Length')\n",
    "plt.ylabel('Annual Ridership')\n",
    "\n",
    "# Show the plot\n",
    "plt.show()\n"
   ]
  },
  {
   "attachments": {},
   "cell_type": "markdown",
   "metadata": {},
   "source": [
    "# comparing stations with annual ridership"
   ]
  },
  {
   "cell_type": "code",
   "execution_count": 14,
   "metadata": {},
   "outputs": [
    {
     "name": "stdout",
     "output_type": "stream",
     "text": [
      "424\n",
      "5\n"
     ]
    }
   ],
   "source": [
    "s = metro['Stations'].max()\n",
    "l = metro['Stations'].min()\n",
    "\n",
    "print(s)\n",
    "print(l)"
   ]
  },
  {
   "cell_type": "code",
   "execution_count": 15,
   "metadata": {},
   "outputs": [
    {
     "data": {
      "image/png": "[encoded data removed]",
      "text/plain": [
       "<Figure size 640x480 with 1 Axes>"
      ]
     },
     "metadata": {},
     "output_type": "display_data"
    }
   ],
   "source": [
    "stations = metro['Stations']\n",
    "\n",
    "plt.scatter(stations, annual_ridership)\n",
    "plt.xlabel('Stations')\n",
    "plt.ylabel('Annual Ridership')\n",
    "\n",
    "plt.show()"
   ]
  },
  {
   "attachments": {},
   "cell_type": "markdown",
   "metadata": {},
   "source": [
    "# showing which countries have the most number of stations"
   ]
  },
  {
   "cell_type": "code",
   "execution_count": 20,
   "metadata": {},
   "outputs": [
    {
     "name": "stdout",
     "output_type": "stream",
     "text": [
      "Count          1    2               3    4    5    6    7    8    13  \\\n",
      "0         Algeria  NaN             NaN  NaN  NaN  NaN  NaN  NaN  NaN   \n",
      "1       Argentina  NaN             NaN  NaN  NaN  NaN  NaN  NaN  NaN   \n",
      "2         Armenia  NaN             NaN  NaN  NaN  NaN  NaN  NaN  NaN   \n",
      "3       Australia  NaN             NaN  NaN  NaN  NaN  NaN  NaN  NaN   \n",
      "4         Austria  NaN             NaN  NaN  NaN  NaN  NaN  NaN  NaN   \n",
      "..            ...  ...             ...  ...  ...  ...  ...  ...  ...   \n",
      "57            NaN  NaN  United Kingdom  NaN  NaN  NaN  NaN  NaN  NaN   \n",
      "58            NaN  NaN             NaN  NaN  NaN  NaN  NaN  NaN  NaN   \n",
      "59     Uzbekistan  NaN             NaN  NaN  NaN  NaN  NaN  NaN  NaN   \n",
      "60      Venezuela  NaN             NaN  NaN  NaN  NaN  NaN  NaN  NaN   \n",
      "61        Vietnam  NaN             NaN  NaN  NaN  NaN  NaN  NaN  NaN   \n",
      "\n",
      "Count             15   45  \n",
      "0                NaN  NaN  \n",
      "1                NaN  NaN  \n",
      "2                NaN  NaN  \n",
      "3                NaN  NaN  \n",
      "4                NaN  NaN  \n",
      "..               ...  ...  \n",
      "57               NaN  NaN  \n",
      "58     United States  NaN  \n",
      "59               NaN  NaN  \n",
      "60               NaN  NaN  \n",
      "61               NaN  NaN  \n",
      "\n",
      "[62 rows x 11 columns]\n"
     ]
    }
   ],
   "source": [
    "\n",
    "\n",
    "# Group the dataframe by country and count the number of stations\n",
    "station_count = metro.groupby('Country')['Stations'].count()\n",
    "\n",
    "# Create a new dataframe with the counts\n",
    "df_counts = pd.DataFrame({'Country': station_count.index, 'Count': station_count.values})\n",
    "\n",
    "# Pivot the dataframe\n",
    "pivoted = df_counts.pivot(columns='Count', values='Country')\n",
    "\n",
    "print(pivoted)\n"
   ]
  }
 ],
 "metadata": {
  "kernelspec": {
   "display_name": "Python 3",
   "language": "python",
   "name": "python3"
  },
  "language_info": {
   "codemirror_mode": {
    "name": "ipython",
    "version": 3
   },
   "file_extension": ".py",
   "mimetype": "text/x-python",
   "name": "python",
   "nbconvert_exporter": "python",
   "pygments_lexer": "ipython3",
   "version": "3.11.2"
  },
  "orig_nbformat": 4
 },
 "nbformat": 4,
 "nbformat_minor": 2
}

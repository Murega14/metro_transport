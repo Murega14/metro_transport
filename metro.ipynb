{
 "cells": [
  {
   "cell_type": "code",
   "execution_count": 1,
   "metadata": {},
   "outputs": [],
   "source": [
    "#importing libraries\n",
    "import pandas as pd\n",
    "import numpy as np"
   ]
  },
  {
   "cell_type": "code",
   "execution_count": 2,
   "metadata": {},
   "outputs": [
    {
     "name": "stdout",
     "output_type": "stream",
     "text": [
      "             City Country\\r\\nregion                      Name   \n",
      "0         Algiers           Algeria             Algiers Metro  \\\n",
      "1    Buenos Aires         Argentina  Buenos Aires Underground   \n",
      "2         Yerevan           Armenia             Yerevan Metro   \n",
      "3          Sydney         Australia              Sydney Metro   \n",
      "4          Vienna           Austria             Vienna U-Bahn   \n",
      "5            Baku        Azerbaijan                Baku Metro   \n",
      "6           Dhaka        Bangladesh          Dhaka Metro Rail   \n",
      "7           Minsk           Belarus               Minsk Metro   \n",
      "8        Brussels           Belgium            Brussels Metro   \n",
      "9  Belo Horizonte            Brazil      Belo Horizonte Metro   \n",
      "\n",
      "   Service\\r\\nopened Last\\r\\nexpanded  Stations      System length   \n",
      "0               2011             2018        19  18.5 km (11.5 mi)  \\\n",
      "1               1913             2019        78  56.7 km (35.2 mi)   \n",
      "2               1981             1996        10   12.1 km (7.5 mi)   \n",
      "3               2019                –        13      36 km (22 mi)   \n",
      "4               1978             2017        98  83.3 km (51.8 mi)   \n",
      "5               1967             2022        27  40.7 km (25.3 mi)   \n",
      "6               2022                –         9   11.7 km (7.3 mi)   \n",
      "7               1984             2020        33  40.8 km (25.4 mi)   \n",
      "8               1976             2009        59  39.9 km (24.8 mi)   \n",
      "9               1986             2002        19  28.1 km (17.5 mi)   \n",
      "\n",
      "  Annual ridership\\r\\n(millions)  \n",
      "0                    45.3 (2019)  \n",
      "1                    74.0 (2020)  \n",
      "2                    23.3 (2022)  \n",
      "3                    16.3 (2022)  \n",
      "4                   459.8 (2019)  \n",
      "5                   202.5 (2022)  \n",
      "6                            NaN  \n",
      "7                   225.9 (2022)  \n",
      "8                    96.3 (2021)  \n",
      "9                    54.4 (2019)  \n"
     ]
    }
   ],
   "source": [
    "#loading csv file into dataframe\n",
    "df = pd.read_csv('/home/muregz/data_analysis/metro_transport/Metro-Systems-Worldwide.csv')\n",
    "\n",
    "print(df.head(10))"
   ]
  },
  {
   "cell_type": "code",
   "execution_count": 11,
   "metadata": {},
   "outputs": [
    {
     "name": "stdout",
     "output_type": "stream",
     "text": [
      "Index(['City', 'Country', 'Name', 'Service opened', 'Last expanded',\n",
      "       'Stations', 'System length', 'Annual ridership in millions'],\n",
      "      dtype='object')\n"
     ]
    }
   ],
   "source": [
    "df = df.rename(columns={'Country\\r\\nregion': 'Country',\n",
    "                        'Service\\r\\nopened' : 'Service opened',\n",
    "                        'Last\\r\\nexpanded' : 'Last expanded',\n",
    "                        'Annual ridership\\r\\n(millions)' : 'Annual ridership in millions'})\n",
    "print(df.columns)"
   ]
  },
  {
   "cell_type": "code",
   "execution_count": 36,
   "metadata": {},
   "outputs": [
    {
     "name": "stdout",
     "output_type": "stream",
     "text": [
      "           City    Country                      Name  Service opened   \n",
      "0       Algiers    Algeria             Algiers Metro            2011  \\\n",
      "1  Buenos Aires  Argentina  Buenos Aires Underground            1913   \n",
      "2       Yerevan    Armenia             Yerevan Metro            1981   \n",
      "3        Sydney  Australia              Sydney Metro            2019   \n",
      "4        Vienna    Austria             Vienna U-Bahn            1978   \n",
      "\n",
      "  Last expanded  Stations      System length Annual ridership in millions   \n",
      "0          2018        19  18.5 km (11.5 mi)                  45.3 (2019)  \\\n",
      "1          2019        78  56.7 km (35.2 mi)                  74.0 (2020)   \n",
      "2          1996        10   12.1 km (7.5 mi)                  23.3 (2022)   \n",
      "3             –        13      36 km (22 mi)                  16.3 (2022)   \n",
      "4          2017        98  83.3 km (51.8 mi)                 459.8 (2019)   \n",
      "\n",
      "  Annual Ridership Year of Record  \n",
      "0             45.3           2019  \n",
      "1             74.0           2020  \n",
      "2             23.3           2022  \n",
      "3             16.3           2022  \n",
      "4            459.8           2019  \n"
     ]
    }
   ],
   "source": [
    "# Split the \"Ridership\" column into two separate columns\n",
    "df[['Annual Ridership', 'Year of Record']] = df['Annual ridership in millions'].str.split(' ', n=1, expand=True)\n",
    "\n",
    "# Remove the parentheses from the \"Year of Record\" column\n",
    "df['Year of Record'] = df['Year of Record'].str.strip('()')\n",
    "\n",
    "# Print the resulting DataFrame\n",
    "print(df.head(5))"
   ]
  },
  {
   "cell_type": "code",
   "execution_count": 41,
   "metadata": {},
   "outputs": [
    {
     "name": "stdout",
     "output_type": "stream",
     "text": [
      "0       45.3\n",
      "1       74.0\n",
      "2       23.3\n",
      "3       16.3\n",
      "4      459.8\n",
      "       ...  \n",
      "200      2.5\n",
      "201     93.0\n",
      "202    136.7\n",
      "203      358\n",
      "204      7.5\n",
      "Name: Annual Ridership, Length: 205, dtype: object\n"
     ]
    }
   ],
   "source": [
    "df['Annual Ridership'] = df['Annual Ridership'].str.replace(',', '')\n",
    "\n",
    "\n",
    "print(df['Annual Ridership'])"
   ]
  },
  {
   "cell_type": "code",
   "execution_count": 49,
   "metadata": {},
   "outputs": [],
   "source": [
    "df = df.reset_index()\n",
    "df.to_csv('output.csv', index=False)"
   ]
  },
  {
   "cell_type": "code",
   "execution_count": 72,
   "metadata": {},
   "outputs": [
    {
     "name": "stdout",
     "output_type": "stream",
     "text": [
      "                       Name          City    Country  Service opened   \n",
      "0             Algiers Metro       Algiers    Algeria            2011  \\\n",
      "1  Buenos Aires Underground  Buenos Aires  Argentina            1913   \n",
      "2             Yerevan Metro       Yerevan    Armenia            1981   \n",
      "3              Sydney Metro        Sydney  Australia            2019   \n",
      "4             Vienna U-Bahn        Vienna    Austria            1978   \n",
      "\n",
      "  Last expanded  Stations      System length Annual ridership in millions   \n",
      "0          2018        19  18.5 km (11.5 mi)                  45.3 (2019)  \\\n",
      "1          2019        78  56.7 km (35.2 mi)                  74.0 (2020)   \n",
      "2          1996        10   12.1 km (7.5 mi)                  23.3 (2022)   \n",
      "3             –        13      36 km (22 mi)                  16.3 (2022)   \n",
      "4          2017        98  83.3 km (51.8 mi)                 459.8 (2019)   \n",
      "\n",
      "   Annual Ridership Year of Record  \n",
      "0              45.3           2019  \n",
      "1              74.0           2020  \n",
      "2              23.3           2022  \n",
      "3              16.3           2022  \n",
      "4             459.8           2019  \n"
     ]
    }
   ],
   "source": [
    "metro = pd.read_csv('/home/muregz/data_analysis/metro_transport/output.csv')\n",
    "print(metro.head(5))"
   ]
  },
  {
   "cell_type": "code",
   "execution_count": 59,
   "metadata": {},
   "outputs": [
    {
     "name": "stdout",
     "output_type": "stream",
     "text": [
      "Annual Ridership    nan\n",
      "Year of Record         \n",
      "Name: 106, dtype: object\n"
     ]
    }
   ],
   "source": [
    "import re\n",
    "\n",
    "row_index = 106\n",
    "\n",
    "# Convert the float value to a string and then split the values in the selected row\n",
    "values = str(metro.loc[row_index, 'Annual ridership in millions'])\n",
    "split_values = re.split(r'\\s|\\(|\\)', values, maxsplit=1)\n",
    "\n",
    "if len(split_values) == 2:\n",
    "    annual_ridership, year_of_record = split_values\n",
    "else:\n",
    "    annual_ridership = values\n",
    "    year_of_record = ''\n",
    "\n",
    "# Assign the values to the corresponding columns\n",
    "metro.loc[row_index, 'Annual Ridership'] = annual_ridership\n",
    "metro.loc[row_index, 'Year of Record'] = year_of_record\n",
    "\n",
    "print(metro.loc[row_index, ['Annual Ridership', 'Year of Record']])\n",
    "\n",
    "\n"
   ]
  },
  {
   "cell_type": "code",
   "execution_count": 73,
   "metadata": {},
   "outputs": [],
   "source": [
    "metro['Annual Ridership'] = metro['Annual Ridership'].astype(float)"
   ]
  },
  {
   "attachments": {},
   "cell_type": "markdown",
   "metadata": {},
   "source": [
    "# showing which countries appear in the file"
   ]
  },
  {
   "cell_type": "code",
   "execution_count": 14,
   "metadata": {},
   "outputs": [
    {
     "name": "stdout",
     "output_type": "stream",
     "text": [
      "['Algeria' 'Argentina' 'Armenia' 'Australia' 'Austria' 'Azerbaijan'\n",
      " 'Bangladesh' 'Belarus' 'Belgium' 'Brazil' 'Bulgaria' 'Canada' 'Chile'\n",
      " 'China' 'Colombia' 'Czech Republic' 'Denmark' 'Dominican Republic'\n",
      " 'Ecuador' 'Egypt' 'Finland' 'France' 'Georgia' 'Germany' 'Greece'\n",
      " 'Hungary' 'India' 'Indonesia' 'Iran' 'Italy' 'Japan' 'Kazakhstan'\n",
      " 'North Korea' 'South Korea' 'Malaysia' 'Mexico' 'Netherlands' 'Nigeria'\n",
      " 'Norway' 'Pakistan' 'Panama' 'Peru' 'Philippines' 'Poland' 'Portugal'\n",
      " 'Qatar' 'Romania' 'Russia' 'Singapore' 'Spain' 'Sweden' 'Switzerland'\n",
      " 'Taiwan' 'Thailand' 'Turkey' 'Ukraine' 'United Arab Emirates'\n",
      " 'United Kingdom' 'United States' 'Uzbekistan' 'Venezuela' 'Vietnam']\n"
     ]
    }
   ],
   "source": [
    "country = df['Country'].unique()\n",
    "print(country)"
   ]
  },
  {
   "attachments": {},
   "cell_type": "markdown",
   "metadata": {},
   "source": [
    "# showing which country has the highest annual ridership and the lowest ridership"
   ]
  },
  {
   "cell_type": "code",
   "execution_count": 85,
   "metadata": {},
   "outputs": [
    {
     "name": "stdout",
     "output_type": "stream",
     "text": [
      "Name: Shanghai Metro\n",
      "Country: China\n"
     ]
    },
    {
     "data": {
      "text/plain": [
       "<function print(*args, sep=' ', end='\\n', file=None, flush=False)>"
      ]
     },
     "execution_count": 85,
     "metadata": {},
     "output_type": "execute_result"
    }
   ],
   "source": [
    "highest = metro.groupby(['Name', 'Country'])['Annual Ridership'].max()\n",
    "highest_index = highest.idxmax()\n",
    "name, country = highest_index\n",
    "print(\"Name:\", name)\n",
    "print(\"Country:\", country)\n",
    "print\n"
   ]
  },
  {
   "cell_type": "code",
   "execution_count": 86,
   "metadata": {},
   "outputs": [
    {
     "name": "stdout",
     "output_type": "stream",
     "text": [
      "Name: Ahmedabad Metro\n",
      "Country: India\n"
     ]
    }
   ],
   "source": [
    "lowest = metro.groupby(['Name', 'Country'])['Annual Ridership'].min()\n",
    "lowest_index = lowest.idxmin()\n",
    "name, country = lowest_index\n",
    "print(\"Name:\", name)\n",
    "print(\"Country:\", country)"
   ]
  },
  {
   "cell_type": "code",
   "execution_count": 87,
   "metadata": {},
   "outputs": [
    {
     "data": {
      "text/plain": [
       "Index(['Name', 'City', 'Country', 'Service opened', 'Last expanded',\n",
       "       'Stations', 'System length', 'Annual ridership in millions',\n",
       "       'Annual Ridership', 'Year of Record'],\n",
       "      dtype='object')"
      ]
     },
     "execution_count": 87,
     "metadata": {},
     "output_type": "execute_result"
    }
   ],
   "source": [
    "metro.columns"
   ]
  },
  {
   "cell_type": "code",
   "execution_count": null,
   "metadata": {},
   "outputs": [],
   "source": []
  }
 ],
 "metadata": {
  "kernelspec": {
   "display_name": "Python 3",
   "language": "python",
   "name": "python3"
  },
  "language_info": {
   "codemirror_mode": {
    "name": "ipython",
    "version": 3
   },
   "file_extension": ".py",
   "mimetype": "text/x-python",
   "name": "python",
   "nbconvert_exporter": "python",
   "pygments_lexer": "ipython3",
   "version": "3.11.2"
  },
  "orig_nbformat": 4
 },
 "nbformat": 4,
 "nbformat_minor": 2
}
